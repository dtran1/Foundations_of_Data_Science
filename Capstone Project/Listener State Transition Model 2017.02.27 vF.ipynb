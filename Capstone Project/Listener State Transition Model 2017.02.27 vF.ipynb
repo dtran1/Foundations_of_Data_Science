{
 "cells": [
  {
   "cell_type": "code",
   "execution_count": 2,
   "metadata": {
    "collapsed": true
   },
   "outputs": [
    {
     "name": "stderr",
     "output_type": "stream",
     "text": [
      "Loading required package: gplots\n",
      "\n",
      "Attaching package: 'gplots'\n",
      "\n",
      "The following object is masked from 'package:stats':\n",
      "\n",
      "    lowess\n",
      "\n",
      "\n",
      "Attaching package: 'dplyr'\n",
      "\n",
      "The following objects are masked from 'package:stats':\n",
      "\n",
      "    filter, lag\n",
      "\n",
      "The following objects are masked from 'package:base':\n",
      "\n",
      "    intersect, setdiff, setequal, union\n",
      "\n",
      "randomForest 4.6-12\n",
      "Type rfNews() to see new features/changes/bug fixes.\n",
      "\n",
      "Attaching package: 'randomForest'\n",
      "\n",
      "The following object is masked from 'package:dplyr':\n",
      "\n",
      "    combine\n",
      "\n",
      "The following object is masked from 'package:ggplot2':\n",
      "\n",
      "    margin\n",
      "\n"
     ]
    }
   ],
   "source": [
    "library(ROCR)\n",
    "library(ggplot2)\n",
    "library(dplyr)\n",
    "library(caTools)\n",
    "library(randomForest)\n",
    "library(NbClust)"
   ]
  },
  {
   "cell_type": "code",
   "execution_count": 3,
   "metadata": {
    "collapsed": false
   },
   "outputs": [
    {
     "name": "stdout",
     "output_type": "stream",
     "text": [
      "'data.frame':\t3698686 obs. of  14 variables:\n",
      " $ listener_id             : int  357401 373901 426701 476201 482801 519101 2107001 2146601 2173001 2186201 ...\n",
      " $ subscription_start      : int  0 0 0 0 0 0 0 0 0 0 ...\n",
      " $ listener_state          : Factor w/ 10 levels \"CANCELLED\",\"COMPLIMENTARY\",..: 1 6 6 6 6 6 6 6 6 6 ...\n",
      " $ previous_state          : Factor w/ 11 levels \"CANCELLED\",\"COMPLIMENTARY\",..: 1 7 7 7 7 7 7 7 7 7 ...\n",
      " $ play_time_hrs           : Factor w/ 225 levels \"0\",\"1\",\"10\",\"100\",..: 225 225 225 225 225 225 225 225 225 225 ...\n",
      " $ days_on_service         : int  0 0 0 0 0 0 0 0 0 0 ...\n",
      " $ age                     : Factor w/ 105 levels \"100\",\"101\",\"102\",..: 105 26 33 38 53 36 39 31 46 33 ...\n",
      " $ gender                  : Factor w/ 3 levels \"FEMALE\",\"MALE\",..: 3 2 2 2 2 1 2 1 1 1 ...\n",
      " $ is_male_flag            : int  0 1 1 1 1 0 1 0 0 0 ...\n",
      " $ days_since_account_start: int  4011 514 4006 4001 4000 3996 3940 525 527 3939 ...\n",
      " $ null_zip_flag           : int  1 0 0 0 0 0 1 0 0 0 ...\n",
      " $ zipcode                 : Factor w/ 40340 levels \"10001\",\"10002\",..: 40340 29217 1884 34853 19210 34737 40340 19115 17478 27457 ...\n",
      " $ smc_impressions         : Factor w/ 7 levels \"1\",\"2\",\"3\",\"4\",..: 7 7 7 7 7 7 7 7 7 7 ...\n",
      " $ flex_impressions        : Factor w/ 1 level \"NULL\": 1 1 1 1 1 1 1 1 1 1 ...\n"
     ]
    }
   ],
   "source": [
    "#setwd(\"A:/Projects/2017_LiSTE\") #yay you can point to al-client1... but i'm going to export to local for faster processing\n",
    "setwd(\"C:/Users/dtran/Desktop\")\n",
    "LISTE <- read.delim(\"./dtran_LiSTE_temp.tsv\", header = TRUE, sep=\"\\t\")\n",
    "str(LISTE)"
   ]
  },
  {
   "cell_type": "code",
   "execution_count": 4,
   "metadata": {
    "collapsed": false
   },
   "outputs": [],
   "source": [
    "#changing the structure of some columns\n",
    "LISTE$age <- as.integer(LISTE$age)\n",
    "LISTE$smc_impressions <- as.integer(LISTE$smc_impressions)\n",
    "LISTE$flex_impressions = as.integer(LISTE$flex_impressions)\n",
    "#LISTE$subscription_start <- as.factor(LISTE$subscription_start) \n",
    "LISTE$play_time_hrs <- as.integer(LISTE$play_time_hrs)"
   ]
  },
  {
   "cell_type": "code",
   "execution_count": 5,
   "metadata": {
    "collapsed": false
   },
   "outputs": [
    {
     "name": "stdout",
     "output_type": "stream",
     "text": [
      "'data.frame':\t552616 obs. of  14 variables:\n",
      " $ listener_id             : int  2582201 2674601 2714201 2753801 2872601 3915401 4007801 4583601 6510801 7382001 ...\n",
      " $ subscription_start      : int  0 0 0 0 0 0 0 0 0 0 ...\n",
      " $ listener_state          : Factor w/ 10 levels \"CANCELLED\",\"COMPLIMENTARY\",..: 6 6 6 6 6 6 6 6 6 6 ...\n",
      " $ previous_state          : Factor w/ 11 levels \"CANCELLED\",\"COMPLIMENTARY\",..: 7 7 7 7 7 7 7 7 7 7 ...\n",
      " $ play_time_hrs           : int  2 165 47 202 1 125 1 165 2 151 ...\n",
      " $ days_on_service         : int  3 5 4 6 1 2 1 7 2 7 ...\n",
      " $ age                     : int  35 45 34 48 37 42 40 30 45 63 ...\n",
      " $ gender                  : Factor w/ 3 levels \"FEMALE\",\"MALE\",..: 1 2 1 1 2 2 1 2 1 1 ...\n",
      " $ is_male_flag            : int  0 1 0 0 1 1 0 1 0 0 ...\n",
      " $ days_since_account_start: int  3927 3924 3923 3922 3919 3897 3895 470 3848 3830 ...\n",
      " $ null_zip_flag           : int  0 0 0 0 0 0 0 0 0 0 ...\n",
      " $ zipcode                 : Factor w/ 40340 levels \"10001\",\"10002\",..: 34817 18502 1927 36921 30524 8498 29765 31525 40096 37694 ...\n",
      " $ smc_impressions         : int  7 7 7 7 1 7 7 1 1 2 ...\n",
      " $ flex_impressions        : int  1 1 1 1 1 1 1 1 1 1 ...\n"
     ]
    }
   ],
   "source": [
    "#remove rows where days_on_service = NULL and just work on active listeners. I can create a new model for listeners moving from inactive to active but that's another project\n",
    "LISTE2 <- filter(LISTE, LISTE$days_on_service != \"0\")\n",
    "str(LISTE2)\n",
    "#makes it much smaller and easier to train a model on. Also, filtering for 0 is so much easier than NULL. R does not seem to handle NULL well. Na it seems fine with. "
   ]
  },
  {
   "cell_type": "code",
   "execution_count": 6,
   "metadata": {
    "collapsed": false
   },
   "outputs": [
    {
     "data": {
      "text/plain": [
       "  listener_id        subscription_start                     listener_state  \n",
       " Min.   :1.000e+00   Min.   :0.00e+00   REGISTERED                 :520800  \n",
       " 1st Qu.:2.688e+08   1st Qu.:0.00e+00   VENDOR_BILLED_SUBSCRIBER   : 21416  \n",
       " Median :5.840e+08   Median :0.00e+00   SUBSCRIBER                 :  9524  \n",
       " Mean   :6.838e+08   Mean   :5.97e-05   VENDOR_BILLED_COMPLIMENTARY:   475  \n",
       " 3rd Qu.:9.354e+08   3rd Qu.:0.00e+00   COMPLIMENTARY              :   299  \n",
       " Max.   :1.917e+09   Max.   :1.00e+00   SUSPENDED                  :    50  \n",
       "                                        (Other)                    :    52  \n",
       "                     previous_state   play_time_hrs    days_on_service\n",
       " REGISTERED                 :520811   Min.   :  1.00   Min.   :1.000  \n",
       " VENDOR_BILLED_SUBSCRIBER   : 21380   1st Qu.:  2.00   1st Qu.:1.000  \n",
       " SUBSCRIBER                 :  9517   Median : 90.00   Median :3.000  \n",
       " VENDOR_BILLED_COMPLIMENTARY:   495   Mean   : 78.85   Mean   :3.451  \n",
       " COMPLIMENTARY              :   326   3rd Qu.:151.00   3rd Qu.:5.000  \n",
       " SUSPENDED                  :    46   Max.   :224.00   Max.   :7.000  \n",
       " (Other)                    :    41                                   \n",
       "      age            gender        is_male_flag    days_since_account_start\n",
       " Min.   :  1.00   FEMALE:300128   Min.   :0.0000   Min.   :   1            \n",
       " 1st Qu.: 31.00   MALE  :252022   1st Qu.:0.0000   1st Qu.: 572            \n",
       " Median : 38.00   NULL  :   466   Median :0.0000   Median :1388            \n",
       " Mean   : 41.34                   Mean   :0.4561   Mean   :1369            \n",
       " 3rd Qu.: 50.00                   3rd Qu.:1.0000   3rd Qu.:2042            \n",
       " Max.   :105.00                   Max.   :1.0000   Max.   :4052            \n",
       "                                                                           \n",
       " null_zip_flag         zipcode       smc_impressions flex_impressions\n",
       " Min.   :0.000000   NULL   :  3721   Min.   :1.000   Min.   :1       \n",
       " 1st Qu.:0.000000   12345  :   385   1st Qu.:2.000   1st Qu.:1       \n",
       " Median :0.000000   90210  :   381   Median :7.000   Median :1       \n",
       " Mean   :0.006733   91331  :   282   Mean   :5.485   Mean   :1       \n",
       " 3rd Qu.:0.000000   90011  :   271   3rd Qu.:7.000   3rd Qu.:1       \n",
       " Max.   :1.000000   79936  :   262   Max.   :7.000   Max.   :1       \n",
       "                    (Other):547314                                   "
      ]
     },
     "metadata": {},
     "output_type": "display_data"
    }
   ],
   "source": [
    "summary(LISTE2)\n",
    "#is there a way I can do a summary view group by subscription_start? \n",
    "#I would like to predict listener_state given previous_state + play_time_hrs (which should be changed to int) + days_on_service"
   ]
  },
  {
   "cell_type": "code",
   "execution_count": 5,
   "metadata": {
    "collapsed": false
   },
   "outputs": [
    {
     "data": {
      "text/plain": [
       "\n",
       "      0       1 \n",
       "3698646      40 "
      ]
     },
     "metadata": {},
     "output_type": "display_data"
    },
    {
     "data": {
      "text/plain": [
       "\n",
       "     0      1 \n",
       "552583     33 "
      ]
     },
     "metadata": {},
     "output_type": "display_data"
    }
   ],
   "source": [
    "table(LISTE$subscription_start)\n",
    "table(LISTE2$subscription_start)\n",
    "#baseline would be that no one changes state. That means without training a model, the baseline accurary is already super high. \n",
    "#It looks like the model would be like > 90% accurate if it assumes no change in state... Perhaps if I exclude inactives? \n",
    "\n",
    "#Anomaly detection could be a better way to pick up subscription starts. Train it all on zeroes and for the test set is for 1. Run the train set on the test set and see what it says\n",
    "#Algo to consider: support vector machine (kind of like a step up from linear and logistic regression)"
   ]
  },
  {
   "cell_type": "code",
   "execution_count": 20,
   "metadata": {
    "collapsed": false
   },
   "outputs": [
    {
     "data": {
      "text/plain": [
       "\n",
       " FALSE   TRUE \n",
       "497355  55261 "
      ]
     },
     "metadata": {},
     "output_type": "display_data"
    }
   ],
   "source": [
    "#making a much smaller training set with only 10% of the data because training the model on 75% of the data just took too long\n",
    "split = sample.split(LISTE2$subscription_start, .10)\n",
    "table(split == TRUE)"
   ]
  },
  {
   "cell_type": "code",
   "execution_count": 21,
   "metadata": {
    "collapsed": false
   },
   "outputs": [
    {
     "name": "stdout",
     "output_type": "stream",
     "text": [
      "'data.frame':\t55261 obs. of  14 variables:\n",
      " $ listener_id             : int  4007801 6510801 13102501 20435401 44482201 73595701 74019101 76975901 85915401 87534901 ...\n",
      " $ subscription_start      : int  0 0 0 0 0 0 0 0 0 0 ...\n",
      " $ listener_state          : Factor w/ 10 levels \"CANCELLED\",\"COMPLIMENTARY\",..: 6 6 6 6 6 6 6 6 10 7 ...\n",
      " $ previous_state          : Factor w/ 11 levels \"CANCELLED\",\"COMPLIMENTARY\",..: 7 7 7 7 7 7 7 7 11 8 ...\n",
      " $ play_time_hrs           : int  1 2 47 125 1 2 1 2 14 125 ...\n",
      " $ days_on_service         : int  1 2 7 5 4 1 1 1 4 1 ...\n",
      " $ age                     : int  40 45 35 36 30 44 38 32 49 76 ...\n",
      " $ gender                  : Factor w/ 3 levels \"FEMALE\",\"MALE\",..: 1 1 1 1 2 1 2 2 1 1 ...\n",
      " $ is_male_flag            : int  0 0 0 0 1 0 1 1 0 0 ...\n",
      " $ days_since_account_start: int  3895 3848 527 3597 3269 2974 2970 2945 2879 2868 ...\n",
      " $ null_zip_flag           : int  0 0 0 0 0 0 0 0 0 0 ...\n",
      " $ zipcode                 : Factor w/ 40340 levels \"10001\",\"10002\",..: 29765 40096 20594 9818 36208 571 8787 26788 14 39310 ...\n",
      " $ smc_impressions         : int  7 1 7 1 7 7 7 7 7 7 ...\n",
      " $ flex_impressions        : int  1 1 1 1 1 1 1 1 1 1 ...\n"
     ]
    },
    {
     "data": {
      "text/plain": [
       "\n",
       "    0     1 \n",
       "55258     3 "
      ]
     },
     "metadata": {},
     "output_type": "display_data"
    }
   ],
   "source": [
    "#create train and test sets \n",
    "liste2train = subset(LISTE2, split == TRUE)\n",
    "liste2test = subset(LISTE2, split == FALSE)\n",
    "str(liste2train)\n",
    "table(liste2train$subscription_start)"
   ]
  },
  {
   "cell_type": "code",
   "execution_count": 23,
   "metadata": {
    "collapsed": false
   },
   "outputs": [
    {
     "data": {
      "text/plain": [
       "\n",
       "Call:\n",
       "lm(formula = subscription_start ~ play_time_hrs + days_on_service + \n",
       "    age + is_male_flag + days_since_account_start + null_zip_flag + \n",
       "    smc_impressions, data = liste2train)\n",
       "\n",
       "Residuals:\n",
       "     Min       1Q   Median       3Q      Max \n",
       "-0.00039 -0.00011 -0.00005  0.00001  0.99982 \n",
       "\n",
       "Coefficients:\n",
       "                           Estimate Std. Error t value Pr(>|t|)  \n",
       "(Intercept)               1.470e-04  1.448e-04   1.015   0.3099  \n",
       "play_time_hrs            -1.052e-06  4.838e-07  -2.175   0.0296 *\n",
       "days_on_service           2.062e-05  1.742e-05   1.184   0.2366  \n",
       "age                      -4.817e-07  2.316e-06  -0.208   0.8352  \n",
       "is_male_flag              4.646e-05  6.313e-05   0.736   0.4618  \n",
       "days_since_account_start  3.069e-08  3.529e-08   0.870   0.3845  \n",
       "null_zip_flag            -3.612e-05  3.843e-04  -0.094   0.9251  \n",
       "smc_impressions          -2.263e-05  1.337e-05  -1.692   0.0907 .\n",
       "---\n",
       "Signif. codes:  0 '***' 0.001 '**' 0.01 '*' 0.05 '.' 0.1 ' ' 1\n",
       "\n",
       "Residual standard error: 0.007368 on 55253 degrees of freedom\n",
       "Multiple R-squared:  0.0001657,\tAdjusted R-squared:  3.905e-05 \n",
       "F-statistic: 1.308 on 7 and 55253 DF,  p-value: 0.2415\n"
      ]
     },
     "metadata": {},
     "output_type": "display_data"
    }
   ],
   "source": [
    "#train a linear regression model\n",
    "liste2R <- lm(subscription_start ~ play_time_hrs + days_on_service + age + is_male_flag \n",
    "              + days_since_account_start + null_zip_flag + smc_impressions, data = liste2train)\n",
    "summary(liste2R)\n",
    "#why are there so many features of importance now?? And why is my subscription_start table 1 and 2 instead of 0 and 1 \n",
    "#back to baseline where I had no features of significant predicting power except maybe is_male_flag\n",
    "#now play_time_hrs and smc_impressions have predictive power. Why the difference now? \n",
    "#feature design: weather, distance from major city, better zip code "
   ]
  },
  {
   "cell_type": "code",
   "execution_count": 32,
   "metadata": {
    "collapsed": false
   },
   "outputs": [
    {
     "data": {
      "text/plain": [
       "\n",
       "Call:\n",
       "lm(formula = subscription_start ~ play_time_hrs + days_on_service + \n",
       "    is_male_flag + smc_impressions, data = liste2train)\n",
       "\n",
       "Residuals:\n",
       "     Min       1Q   Median       3Q      Max \n",
       "-0.00033 -0.00010 -0.00005  0.00000  0.99983 \n",
       "\n",
       "Coefficients:\n",
       "                  Estimate Std. Error t value Pr(>|t|)  \n",
       "(Intercept)      1.633e-04  1.089e-04   1.499   0.1339  \n",
       "play_time_hrs   -1.043e-06  4.835e-07  -2.156   0.0311 *\n",
       "days_on_service  2.137e-05  1.731e-05   1.234   0.2172  \n",
       "is_male_flag     4.576e-05  6.296e-05   0.727   0.4673  \n",
       "smc_impressions -2.217e-05  1.322e-05  -1.676   0.0937 .\n",
       "---\n",
       "Signif. codes:  0 '***' 0.001 '**' 0.01 '*' 0.05 '.' 0.1 ' ' 1\n",
       "\n",
       "Residual standard error: 0.007368 on 55256 degrees of freedom\n",
       "Multiple R-squared:  0.0001517,\tAdjusted R-squared:  7.93e-05 \n",
       "F-statistic: 2.096 on 4 and 55256 DF,  p-value: 0.07855\n"
      ]
     },
     "metadata": {},
     "output_type": "display_data"
    }
   ],
   "source": [
    "#reducing variables to see impact on multiple r-squared\n",
    "liste2R_v2 <- lm(subscription_start ~ play_time_hrs + days_on_service + is_male_flag \n",
    "             + smc_impressions, data = liste2train)\n",
    "summary(liste2R_v2)\n",
    "#reduction in multiple r-squared relative to liste2R "
   ]
  },
  {
   "cell_type": "code",
   "execution_count": 34,
   "metadata": {
    "collapsed": false
   },
   "outputs": [
    {
     "data": {
      "text/plain": [
       "\n",
       "Call:\n",
       "glm(formula = subscription_start ~ play_time_hrs + days_on_service + \n",
       "    age + is_male_flag + days_since_account_start + null_zip_flag + \n",
       "    smc_impressions, family = binomial, data = liste2train)\n",
       "\n",
       "Deviance Residuals: \n",
       "    Min       1Q   Median       3Q      Max  \n",
       "-0.1065  -0.0082  -0.0040  -0.0011   4.2589  \n",
       "\n",
       "Coefficients:\n",
       "                           Estimate Std. Error z value Pr(>|z|)    \n",
       "(Intercept)              -9.317e+00  2.767e+00  -3.367  0.00076 ***\n",
       "play_time_hrs            -3.719e-02  2.669e-02  -1.393  0.16354    \n",
       "days_on_service           3.781e-01  2.864e-01   1.320  0.18679    \n",
       "age                      -1.331e-02  5.291e-02  -0.252  0.80137    \n",
       "is_male_flag              8.736e-01  1.231e+00   0.710  0.47785    \n",
       "days_since_account_start  5.542e-04  6.501e-04   0.853  0.39393    \n",
       "null_zip_flag            -1.174e+01  2.217e+03  -0.005  0.99577    \n",
       "smc_impressions          -3.454e-01  2.354e-01  -1.467  0.14233    \n",
       "---\n",
       "Signif. codes:  0 '***' 0.001 '**' 0.01 '*' 0.05 '.' 0.1 ' ' 1\n",
       "\n",
       "(Dispersion parameter for binomial family taken to be 1)\n",
       "\n",
       "    Null deviance: 64.927  on 55260  degrees of freedom\n",
       "Residual deviance: 55.073  on 55253  degrees of freedom\n",
       "AIC: 71.073\n",
       "\n",
       "Number of Fisher Scoring iterations: 21\n"
      ]
     },
     "metadata": {},
     "output_type": "display_data"
    }
   ],
   "source": [
    "#train a logistic regression\n",
    "liste2LogR <- glm(subscription_start ~ play_time_hrs + days_on_service + age + is_male_flag\n",
    "                  + days_since_account_start + null_zip_flag + smc_impressions, data = liste2train, family = binomial)\n",
    "summary(liste2LogR)\n",
    "#no feature of significant predicting power with the logistic regression model "
   ]
  },
  {
   "cell_type": "code",
   "execution_count": 1,
   "metadata": {
    "collapsed": false
   },
   "outputs": [
    {
     "ename": "ERROR",
     "evalue": "Error in predict(liste2LogR, type = \"response\", newdata = liste2test): object 'liste2LogR' not found\n",
     "output_type": "error",
     "traceback": [
      "Error in predict(liste2LogR, type = \"response\", newdata = liste2test): object 'liste2LogR' not found\nTraceback:\n",
      "1. predict(liste2LogR, type = \"response\", newdata = liste2test)"
     ]
    }
   ],
   "source": [
    "#run logistic regression model on test data set and create table to see accuracy \n",
    "predictlm = predict(liste2LogR, type = \"response\", newdata=liste2test)\n",
    "table(liste2test$subscription_start, predictlm > 0.1)\n",
    "#table(liste2test$subscription_start, predictlm > 0.0005)\n",
    "Baseline <- 497325/497355 #this is also what the model predicts at the 10% threshold\n",
    "\"Baseline: \" \n",
    "Baseline \n",
    "#baseline and model performs the same in that they both assume no listener changes state and are correct 99% of the time, outside of the 30 instances that it does occur.\n",
    "#logloss - also for anomaly detection so could be helpful here"
   ]
  },
  {
   "cell_type": "code",
   "execution_count": 36,
   "metadata": {
    "collapsed": false,
    "scrolled": true
   },
   "outputs": [
    {
     "data": {
      "image/png": "[encoded data removed]",
      "text/plain": [
       "plot without title"
      ]
     },
     "metadata": {},
     "output_type": "display_data"
    }
   ],
   "source": [
    "#ROC curves to help set threshold\n",
    "ROCRpred = prediction(predictlm, liste2test$subscription_start)\n",
    "ROCRperf = performance(ROCRpred, \"tpr\", \"fpr\")\n",
    "plot(ROCRperf, colorize=TRUE, print.cutoffs.at=seq(0,1,0.1)) #seems to suggest a threshold between around .1"
   ]
  },
  {
   "cell_type": "code",
   "execution_count": null,
   "metadata": {
    "collapsed": true
   },
   "outputs": [],
   "source": [
    "##SOME OLD SCRIPTS BELOW / APPENDIX ## "
   ]
  },
  {
   "cell_type": "code",
   "execution_count": 27,
   "metadata": {
    "collapsed": false
   },
   "outputs": [
    {
     "data": {},
     "metadata": {},
     "output_type": "display_data"
    },
    {
     "data": {
      "image/png": "[encoded data removed]",
      "text/plain": [
       "plot without title"
      ]
     },
     "metadata": {},
     "output_type": "display_data"
    }
   ],
   "source": [
    "#plot distribution of days on service v3 to add a fill  \n",
    "ggplot(LISTE, aes(x=days_on_service, fill = subscription_start == 1, colour = subscription_start == 1)) + \n",
    "geom_density(adjust = 5, alpha = 0.5)"
   ]
  },
  {
   "cell_type": "code",
   "execution_count": 17,
   "metadata": {
    "collapsed": false
   },
   "outputs": [
    {
     "data": {},
     "metadata": {},
     "output_type": "display_data"
    },
    {
     "data": {
      "image/png": "[encoded data removed]",
      "text/plain": [
       "plot without title"
      ]
     },
     "metadata": {},
     "output_type": "display_data"
    }
   ],
   "source": [
    "#plot distribution of play time  \n",
    "ggplot(LISTE2, aes(x=play_time_hrs, fill = subscription_start == 1, colour = subscription_start == 1)) + \n",
    "geom_density(adjust = 5, alpha = 0.5)\n",
    "#no clear cut off to suggest those that subscribe listen more hours than those who do not\n",
    "\n",
    "#perhaps histogram is better for days on service and hours \n"
   ]
  },
  {
   "cell_type": "code",
   "execution_count": 28,
   "metadata": {
    "collapsed": false
   },
   "outputs": [
    {
     "data": {
      "text/plain": [
       "   \n",
       "     FALSE\n",
       "  0 497325\n",
       "  1     30"
      ]
     },
     "metadata": {},
     "output_type": "display_data"
    },
    {
     "data": {
      "text/plain": [
       "   \n",
       "     FALSE\n",
       "  0 497325\n",
       "  1     30"
      ]
     },
     "metadata": {},
     "output_type": "display_data"
    },
    {
     "data": {
      "text/plain": [
       "   \n",
       "     FALSE\n",
       "  0 497325\n",
       "  1     30"
      ]
     },
     "metadata": {},
     "output_type": "display_data"
    }
   ],
   "source": [
    "#run linear regression model on test data set and create table to see accuracy \n",
    "predictlm = predict(liste2R, newdata=liste2test)\n",
    "table(liste2test$subscription_start, predictlm > 0.1)\n",
    "table(liste2test$subscription_start, predictlm > 0.3)\n",
    "table(liste2test$subscription_start, predictlm > 0.0005)\n",
    "#what does the model say? Model says every listener is NOT changing and was right 497325/497355 times. It was wrong on the 30 that did change.\n"
   ]
  },
  {
   "cell_type": "code",
   "execution_count": 33,
   "metadata": {
    "collapsed": false
   },
   "outputs": [
    {
     "data": {
      "text/plain": [
       "\n",
       "Call:\n",
       "lm(formula = subscription_start ~ play_time_hrs + days_on_service + \n",
       "    age + is_male_flag + null_zip_flag + smc_impressions, data = liste2train)\n",
       "\n",
       "Residuals:\n",
       "     Min       1Q   Median       3Q      Max \n",
       "-0.00034 -0.00010 -0.00005  0.00000  0.99984 \n",
       "\n",
       "Coefficients:\n",
       "                  Estimate Std. Error t value Pr(>|t|)  \n",
       "(Intercept)      1.750e-04  1.411e-04   1.240   0.2150  \n",
       "play_time_hrs   -1.042e-06  4.836e-07  -2.154   0.0313 *\n",
       "days_on_service  2.114e-05  1.741e-05   1.214   0.2248  \n",
       "age             -3.032e-07  2.307e-06  -0.131   0.8954  \n",
       "is_male_flag     4.637e-05  6.313e-05   0.735   0.4626  \n",
       "null_zip_flag   -1.895e-05  3.838e-04  -0.049   0.9606  \n",
       "smc_impressions -2.191e-05  1.335e-05  -1.642   0.1006  \n",
       "---\n",
       "Signif. codes:  0 '***' 0.001 '**' 0.01 '*' 0.05 '.' 0.1 ' ' 1\n",
       "\n",
       "Residual standard error: 0.007368 on 55254 degrees of freedom\n",
       "Multiple R-squared:  0.000152,\tAdjusted R-squared:  4.346e-05 \n",
       "F-statistic:   1.4 on 6 and 55254 DF,  p-value: 0.2101\n"
      ]
     },
     "metadata": {},
     "output_type": "display_data"
    }
   ],
   "source": [
    "#does pruning features help? \n",
    "liste2R2 <- lm(subscription_start ~ play_time_hrs + days_on_service + age + is_male_flag\n",
    "               + null_zip_flag + smc_impressions, data = liste2train)\n",
    "summary(liste2R2)\n",
    "#how do I choose what to keep? "
   ]
  },
  {
   "cell_type": "code",
   "execution_count": 8,
   "metadata": {
    "collapsed": false
   },
   "outputs": [
    {
     "name": "stdout",
     "output_type": "stream",
     "text": [
      "'data.frame':\t552616 obs. of  6 variables:\n",
      " $ play_time_hrs           : int  2 165 47 202 1 125 1 165 2 151 ...\n",
      " $ days_on_service         : int  3 5 4 6 1 2 1 7 2 7 ...\n",
      " $ age                     : int  35 45 34 48 37 42 40 30 45 63 ...\n",
      " $ is_male_flag            : int  0 1 0 0 1 1 0 1 0 0 ...\n",
      " $ days_since_account_start: int  3927 3924 3923 3922 3919 3897 3895 470 3848 3830 ...\n",
      " $ smc_impressions         : int  7 7 7 7 1 7 7 1 1 2 ...\n"
     ]
    }
   ],
   "source": [
    "LISTE3 <- LISTE2 %>% select(play_time_hrs, days_on_service, age, is_male_flag, days_since_account_start, smc_impressions)\n",
    "str(LISTE3)"
   ]
  },
  {
   "cell_type": "code",
   "execution_count": 13,
   "metadata": {
    "collapsed": false
   },
   "outputs": [
    {
     "name": "stdout",
     "output_type": "stream",
     "text": [
      "List of 9\n",
      " $ cluster     : int [1:552616] 6 2 7 7 5 2 6 4 5 5 ...\n",
      " $ centers     : num [1:7, 1:6] -0.884 0.732 -0.486 0.189 0.486 ...\n",
      "  ..- attr(*, \"dimnames\")=List of 2\n",
      "  .. ..$ : chr [1:7] \"1\" \"2\" \"3\" \"4\" ...\n",
      "  .. ..$ : chr [1:6] \"play_time_hrs\" \"days_on_service\" \"age\" \"is_male_flag\" ...\n",
      " $ totss       : num 3315690\n",
      " $ withinss    : num [1:7] 180332 253522 235129 256296 248342 ...\n",
      " $ tot.withinss: num 1613764\n",
      " $ betweenss   : num 1701926\n",
      " $ size        : int [1:7] 80201 84858 60204 69742 71551 90972 95088\n",
      " $ iter        : int 6\n",
      " $ ifault      : int 0\n",
      " - attr(*, \"class\")= chr \"kmeans\"\n"
     ]
    }
   ],
   "source": [
    "#assume random cluster number... let's go with 7\n",
    "k = 7\n",
    "set.seed(7)\n",
    "KMC = kmeans(LISTE3_scaled, centers = k, iter.max=1000)\n",
    "str(KMC)\n",
    "\n",
    "#look into TSNE (its in the notes from previous 1:1) \n"
   ]
  },
  {
   "cell_type": "code",
   "execution_count": 15,
   "metadata": {
    "collapsed": false
   },
   "outputs": [
    {
     "data": {
      "text/html": [
       "<ol class=list-inline>\n",
       "\t<li>-0.884152780499718</li>\n",
       "\t<li>0.731539169000688</li>\n",
       "\t<li>-0.485845802047977</li>\n",
       "\t<li>0.188533078552672</li>\n",
       "\t<li>0.486004444373384</li>\n",
       "\t<li>-0.88837826019597</li>\n",
       "\t<li>0.746441361002184</li>\n",
       "</ol>\n"
      ],
      "text/latex": [
       "\\begin{enumerate*}\n",
       "\\item -0.884152780499718\n",
       "\\item 0.731539169000688\n",
       "\\item -0.485845802047977\n",
       "\\item 0.188533078552672\n",
       "\\item 0.486004444373384\n",
       "\\item -0.88837826019597\n",
       "\\item 0.746441361002184\n",
       "\\end{enumerate*}\n"
      ],
      "text/markdown": [
       "1. -0.884152780499718\n",
       "2. 0.731539169000688\n",
       "3. -0.485845802047977\n",
       "4. 0.188533078552672\n",
       "5. 0.486004444373384\n",
       "6. -0.88837826019597\n",
       "7. 0.746441361002184\n",
       "\n",
       "\n"
      ],
      "text/plain": [
       "[1] -0.8841528  0.7315392 -0.4858458  0.1885331  0.4860044 -0.8883783  0.7464414"
      ]
     },
     "metadata": {},
     "output_type": "display_data"
    }
   ],
   "source": [
    "KMC$centers[1:7]"
   ]
  }
 ],
 "metadata": {
  "anaconda-cloud": {},
  "kernelspec": {
   "display_name": "R",
   "language": "R",
   "name": "ir"
  },
  "language_info": {
   "codemirror_mode": "r",
   "file_extension": ".r",
   "mimetype": "text/x-r-source",
   "name": "R",
   "pygments_lexer": "r",
   "version": "3.3.2"
  }
 },
 "nbformat": 4,
 "nbformat_minor": 1
}
